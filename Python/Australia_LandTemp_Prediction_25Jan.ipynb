{
 "cells": [
  {
   "cell_type": "code",
   "execution_count": 1,
   "metadata": {},
   "outputs": [],
   "source": [
    "import pandas as pd\n",
    "import numpy as np\n",
    "import matplotlib.pyplot as plt\n",
    "import seaborn as sns\n",
    "from math import e\n",
    "from statsmodels.tsa.arima_model import ARIMA\n",
    "from statsmodels.tsa.seasonal import seasonal_decompose\n",
    "from sklearn.svm import SVR\n",
    "from sklearn.pipeline import make_pipeline\n",
    "from sklearn.preprocessing import PolynomialFeatures\n",
    "from sklearn.linear_model import Ridge\n",
    "import math"
   ]
  },
  {
   "cell_type": "code",
   "execution_count": 2,
   "metadata": {},
   "outputs": [],
   "source": [
    "# input file1\n",
    "out = pd.read_csv(\"C:/Users/akash\\Documents/GlobalLandTemperaturesByCountry.csv\", \n",
    "                  parse_dates=True, index_col=0)"
   ]
  },
  {
   "cell_type": "code",
   "execution_count": 3,
   "metadata": {},
   "outputs": [],
   "source": [
    "# filter all data to Australia only and only 100 years\n",
    "# changing this to 108 years"
   ]
  },
  {
   "cell_type": "code",
   "execution_count": 4,
   "metadata": {},
   "outputs": [
    {
     "data": {
      "text/html": [
       "<div>\n",
       "<style scoped>\n",
       "    .dataframe tbody tr th:only-of-type {\n",
       "        vertical-align: middle;\n",
       "    }\n",
       "\n",
       "    .dataframe tbody tr th {\n",
       "        vertical-align: top;\n",
       "    }\n",
       "\n",
       "    .dataframe thead th {\n",
       "        text-align: right;\n",
       "    }\n",
       "</style>\n",
       "<table border=\"1\" class=\"dataframe\">\n",
       "  <thead>\n",
       "    <tr style=\"text-align: right;\">\n",
       "      <th></th>\n",
       "      <th>AverageTemperature</th>\n",
       "      <th>AverageTemperatureUncertainty</th>\n",
       "      <th>Country</th>\n",
       "    </tr>\n",
       "    <tr>\n",
       "      <th>dt</th>\n",
       "      <th></th>\n",
       "      <th></th>\n",
       "      <th></th>\n",
       "    </tr>\n",
       "  </thead>\n",
       "  <tbody>\n",
       "    <tr>\n",
       "      <th>1852-07-01</th>\n",
       "      <td>14.116</td>\n",
       "      <td>1.530</td>\n",
       "      <td>Australia</td>\n",
       "    </tr>\n",
       "    <tr>\n",
       "      <th>1852-08-01</th>\n",
       "      <td>15.330</td>\n",
       "      <td>1.400</td>\n",
       "      <td>Australia</td>\n",
       "    </tr>\n",
       "    <tr>\n",
       "      <th>1852-09-01</th>\n",
       "      <td>18.740</td>\n",
       "      <td>1.446</td>\n",
       "      <td>Australia</td>\n",
       "    </tr>\n",
       "    <tr>\n",
       "      <th>1852-10-01</th>\n",
       "      <td>21.984</td>\n",
       "      <td>1.493</td>\n",
       "      <td>Australia</td>\n",
       "    </tr>\n",
       "    <tr>\n",
       "      <th>1852-11-01</th>\n",
       "      <td>24.073</td>\n",
       "      <td>1.466</td>\n",
       "      <td>Australia</td>\n",
       "    </tr>\n",
       "    <tr>\n",
       "      <th>...</th>\n",
       "      <td>...</td>\n",
       "      <td>...</td>\n",
       "      <td>...</td>\n",
       "    </tr>\n",
       "    <tr>\n",
       "      <th>2013-05-01</th>\n",
       "      <td>19.377</td>\n",
       "      <td>0.229</td>\n",
       "      <td>Australia</td>\n",
       "    </tr>\n",
       "    <tr>\n",
       "      <th>2013-06-01</th>\n",
       "      <td>16.018</td>\n",
       "      <td>0.251</td>\n",
       "      <td>Australia</td>\n",
       "    </tr>\n",
       "    <tr>\n",
       "      <th>2013-07-01</th>\n",
       "      <td>15.933</td>\n",
       "      <td>0.187</td>\n",
       "      <td>Australia</td>\n",
       "    </tr>\n",
       "    <tr>\n",
       "      <th>2013-08-01</th>\n",
       "      <td>17.748</td>\n",
       "      <td>0.380</td>\n",
       "      <td>Australia</td>\n",
       "    </tr>\n",
       "    <tr>\n",
       "      <th>2013-09-01</th>\n",
       "      <td>NaN</td>\n",
       "      <td>NaN</td>\n",
       "      <td>Australia</td>\n",
       "    </tr>\n",
       "  </tbody>\n",
       "</table>\n",
       "<p>1935 rows × 3 columns</p>\n",
       "</div>"
      ],
      "text/plain": [
       "            AverageTemperature  AverageTemperatureUncertainty    Country\n",
       "dt                                                                      \n",
       "1852-07-01              14.116                          1.530  Australia\n",
       "1852-08-01              15.330                          1.400  Australia\n",
       "1852-09-01              18.740                          1.446  Australia\n",
       "1852-10-01              21.984                          1.493  Australia\n",
       "1852-11-01              24.073                          1.466  Australia\n",
       "...                        ...                            ...        ...\n",
       "2013-05-01              19.377                          0.229  Australia\n",
       "2013-06-01              16.018                          0.251  Australia\n",
       "2013-07-01              15.933                          0.187  Australia\n",
       "2013-08-01              17.748                          0.380  Australia\n",
       "2013-09-01                 NaN                            NaN  Australia\n",
       "\n",
       "[1935 rows x 3 columns]"
      ]
     },
     "execution_count": 4,
     "metadata": {},
     "output_type": "execute_result"
    }
   ],
   "source": [
    "out.loc[out['Country']=='Australia']"
   ]
  },
  {
   "cell_type": "code",
   "execution_count": 5,
   "metadata": {},
   "outputs": [],
   "source": [
    "out=out.loc[out.index.year > 1909]\n",
    "out=out.loc[out.index.year<=2012] "
   ]
  },
  {
   "cell_type": "code",
   "execution_count": 6,
   "metadata": {},
   "outputs": [
    {
     "name": "stdout",
     "output_type": "stream",
     "text": [
      "Null Values: \n",
      " AverageTemperature               769\n",
      "AverageTemperatureUncertainty     38\n",
      "Country                            0\n",
      "dtype: int64\n"
     ]
    }
   ],
   "source": [
    "print('Null Values: \\n',out.isnull().sum())\n",
    "out=out.ffill()"
   ]
  },
  {
   "cell_type": "code",
   "execution_count": 7,
   "metadata": {},
   "outputs": [
    {
     "name": "stdout",
     "output_type": "stream",
     "text": [
      "Null Values fixed: \n",
      " AverageTemperature               0\n",
      "AverageTemperatureUncertainty    0\n",
      "Country                          0\n",
      "dtype: int64\n"
     ]
    }
   ],
   "source": [
    "print('Null Values fixed: \\n',out.isnull().sum())"
   ]
  },
  {
   "cell_type": "code",
   "execution_count": 8,
   "metadata": {},
   "outputs": [],
   "source": [
    "#drop columns country,uncertainity\n",
    "out=out.drop('AverageTemperatureUncertainty',1)\n",
    "out=out.drop('Country',1)"
   ]
  },
  {
   "cell_type": "code",
   "execution_count": 9,
   "metadata": {},
   "outputs": [],
   "source": [
    "out['Year']=out.index.year + (out.index.month-1)/12  #converting to decimal\n",
    "out['Month'] = out.index.month\n",
    "out['Days delta'] = (out.index -  out.index[0]).days"
   ]
  },
  {
   "cell_type": "code",
   "execution_count": 10,
   "metadata": {},
   "outputs": [],
   "source": [
    "#0=summer,1=autumn,2=winter,3=spring\n",
    "out['Season'] = [1 if month >= 3 and month <= 5 else 2 if month >= 6 and month <= 8 else 3 if month >= 9 and month <= 11 else 0 for month in out['Month']]"
   ]
  },
  {
   "cell_type": "code",
   "execution_count": 11,
   "metadata": {},
   "outputs": [],
   "source": [
    "# what about adding a seasonal delta? eg subtract the seasonal average from the yearly average?\n",
    "#out_yearly_mean = out.resample('A').mean()\n",
    "ma = out.rolling(window=12).mean()\n",
    "out['MA'] = ma['AverageTemperature']\n",
    "out['Season offset'] = out['AverageTemperature'] - ma['AverageTemperature']"
   ]
  },
  {
   "cell_type": "code",
   "execution_count": 12,
   "metadata": {},
   "outputs": [
    {
     "data": {
      "text/html": [
       "<div>\n",
       "<style scoped>\n",
       "    .dataframe tbody tr th:only-of-type {\n",
       "        vertical-align: middle;\n",
       "    }\n",
       "\n",
       "    .dataframe tbody tr th {\n",
       "        vertical-align: top;\n",
       "    }\n",
       "\n",
       "    .dataframe thead th {\n",
       "        text-align: right;\n",
       "    }\n",
       "</style>\n",
       "<table border=\"1\" class=\"dataframe\">\n",
       "  <thead>\n",
       "    <tr style=\"text-align: right;\">\n",
       "      <th></th>\n",
       "      <th>AverageTemperature</th>\n",
       "      <th>Year</th>\n",
       "      <th>Month</th>\n",
       "      <th>Days delta</th>\n",
       "      <th>Season</th>\n",
       "      <th>MA</th>\n",
       "      <th>Season offset</th>\n",
       "    </tr>\n",
       "    <tr>\n",
       "      <th>dt</th>\n",
       "      <th></th>\n",
       "      <th></th>\n",
       "      <th></th>\n",
       "      <th></th>\n",
       "      <th></th>\n",
       "      <th></th>\n",
       "      <th></th>\n",
       "    </tr>\n",
       "  </thead>\n",
       "  <tbody>\n",
       "    <tr>\n",
       "      <th>1910-01-01</th>\n",
       "      <td>-1.238</td>\n",
       "      <td>1910.000000</td>\n",
       "      <td>1</td>\n",
       "      <td>0</td>\n",
       "      <td>0</td>\n",
       "      <td>NaN</td>\n",
       "      <td>NaN</td>\n",
       "    </tr>\n",
       "    <tr>\n",
       "      <th>1910-02-01</th>\n",
       "      <td>0.638</td>\n",
       "      <td>1910.083333</td>\n",
       "      <td>2</td>\n",
       "      <td>31</td>\n",
       "      <td>0</td>\n",
       "      <td>NaN</td>\n",
       "      <td>NaN</td>\n",
       "    </tr>\n",
       "    <tr>\n",
       "      <th>1910-03-01</th>\n",
       "      <td>1.124</td>\n",
       "      <td>1910.166667</td>\n",
       "      <td>3</td>\n",
       "      <td>59</td>\n",
       "      <td>1</td>\n",
       "      <td>NaN</td>\n",
       "      <td>NaN</td>\n",
       "    </tr>\n",
       "    <tr>\n",
       "      <th>1910-04-01</th>\n",
       "      <td>3.269</td>\n",
       "      <td>1910.250000</td>\n",
       "      <td>4</td>\n",
       "      <td>90</td>\n",
       "      <td>1</td>\n",
       "      <td>NaN</td>\n",
       "      <td>NaN</td>\n",
       "    </tr>\n",
       "    <tr>\n",
       "      <th>1910-05-01</th>\n",
       "      <td>7.996</td>\n",
       "      <td>1910.333333</td>\n",
       "      <td>5</td>\n",
       "      <td>120</td>\n",
       "      <td>1</td>\n",
       "      <td>NaN</td>\n",
       "      <td>NaN</td>\n",
       "    </tr>\n",
       "    <tr>\n",
       "      <th>...</th>\n",
       "      <td>...</td>\n",
       "      <td>...</td>\n",
       "      <td>...</td>\n",
       "      <td>...</td>\n",
       "      <td>...</td>\n",
       "      <td>...</td>\n",
       "      <td>...</td>\n",
       "    </tr>\n",
       "    <tr>\n",
       "      <th>2012-08-01</th>\n",
       "      <td>18.946</td>\n",
       "      <td>2012.583333</td>\n",
       "      <td>8</td>\n",
       "      <td>37468</td>\n",
       "      <td>2</td>\n",
       "      <td>21.737500</td>\n",
       "      <td>-2.791500</td>\n",
       "    </tr>\n",
       "    <tr>\n",
       "      <th>2012-09-01</th>\n",
       "      <td>22.609</td>\n",
       "      <td>2012.666667</td>\n",
       "      <td>9</td>\n",
       "      <td>37499</td>\n",
       "      <td>3</td>\n",
       "      <td>21.713083</td>\n",
       "      <td>0.895917</td>\n",
       "    </tr>\n",
       "    <tr>\n",
       "      <th>2012-10-01</th>\n",
       "      <td>23.482</td>\n",
       "      <td>2012.750000</td>\n",
       "      <td>10</td>\n",
       "      <td>37529</td>\n",
       "      <td>3</td>\n",
       "      <td>21.589417</td>\n",
       "      <td>1.892583</td>\n",
       "    </tr>\n",
       "    <tr>\n",
       "      <th>2012-11-01</th>\n",
       "      <td>24.606</td>\n",
       "      <td>2012.833333</td>\n",
       "      <td>11</td>\n",
       "      <td>37560</td>\n",
       "      <td>3</td>\n",
       "      <td>21.513167</td>\n",
       "      <td>3.092833</td>\n",
       "    </tr>\n",
       "    <tr>\n",
       "      <th>2012-12-01</th>\n",
       "      <td>24.111</td>\n",
       "      <td>2012.916667</td>\n",
       "      <td>12</td>\n",
       "      <td>37590</td>\n",
       "      <td>0</td>\n",
       "      <td>21.521333</td>\n",
       "      <td>2.589667</td>\n",
       "    </tr>\n",
       "  </tbody>\n",
       "</table>\n",
       "<p>298953 rows × 7 columns</p>\n",
       "</div>"
      ],
      "text/plain": [
       "            AverageTemperature         Year  Month  Days delta  Season  \\\n",
       "dt                                                                       \n",
       "1910-01-01              -1.238  1910.000000      1           0       0   \n",
       "1910-02-01               0.638  1910.083333      2          31       0   \n",
       "1910-03-01               1.124  1910.166667      3          59       1   \n",
       "1910-04-01               3.269  1910.250000      4          90       1   \n",
       "1910-05-01               7.996  1910.333333      5         120       1   \n",
       "...                        ...          ...    ...         ...     ...   \n",
       "2012-08-01              18.946  2012.583333      8       37468       2   \n",
       "2012-09-01              22.609  2012.666667      9       37499       3   \n",
       "2012-10-01              23.482  2012.750000     10       37529       3   \n",
       "2012-11-01              24.606  2012.833333     11       37560       3   \n",
       "2012-12-01              24.111  2012.916667     12       37590       0   \n",
       "\n",
       "                   MA  Season offset  \n",
       "dt                                    \n",
       "1910-01-01        NaN            NaN  \n",
       "1910-02-01        NaN            NaN  \n",
       "1910-03-01        NaN            NaN  \n",
       "1910-04-01        NaN            NaN  \n",
       "1910-05-01        NaN            NaN  \n",
       "...               ...            ...  \n",
       "2012-08-01  21.737500      -2.791500  \n",
       "2012-09-01  21.713083       0.895917  \n",
       "2012-10-01  21.589417       1.892583  \n",
       "2012-11-01  21.513167       3.092833  \n",
       "2012-12-01  21.521333       2.589667  \n",
       "\n",
       "[298953 rows x 7 columns]"
      ]
     },
     "execution_count": 12,
     "metadata": {},
     "output_type": "execute_result"
    }
   ],
   "source": [
    "out"
   ]
  },
  {
   "cell_type": "code",
   "execution_count": 13,
   "metadata": {},
   "outputs": [
    {
     "name": "stdout",
     "output_type": "stream",
     "text": [
      "count    298953.000000\n",
      "mean         18.888508\n",
      "std          10.484783\n",
      "min         -37.177000\n",
      "25%          13.240000\n",
      "50%          23.290000\n",
      "75%          26.411000\n",
      "max          38.842000\n",
      "Name: AverageTemperature, dtype: float64\n",
      "(298953,)\n"
     ]
    },
    {
     "data": {
      "text/plain": [
       "(298953,)"
      ]
     },
     "execution_count": 13,
     "metadata": {},
     "output_type": "execute_result"
    }
   ],
   "source": [
    "print(out['AverageTemperature'].describe())\n",
    "print(out['AverageTemperature'].shape)\n",
    "out['AverageTemperature'].shape"
   ]
  },
  {
   "cell_type": "code",
   "execution_count": 14,
   "metadata": {},
   "outputs": [],
   "source": [
    "#resampling\n",
    "# reduce the rows - by averaging fo rthe graph\n",
    "out_years = out.resample('A').mean()\n",
    "#out_quarters = out.resample('Q').mean()\n",
    "#out_quarters = out.resample('Q', how=['mean', np.min, np.max])\n",
    "#out_years = out.resample('A', how=['mean', 'min', 'max'])\n",
    "#out_years_10 = out.resample('10A', how=['mean', 'min', 'max'])\n",
    "out_years_10 = out.resample('10A').mean()"
   ]
  },
  {
   "cell_type": "code",
   "execution_count": 15,
   "metadata": {},
   "outputs": [
    {
     "data": {
      "text/html": [
       "<div>\n",
       "<style scoped>\n",
       "    .dataframe tbody tr th:only-of-type {\n",
       "        vertical-align: middle;\n",
       "    }\n",
       "\n",
       "    .dataframe tbody tr th {\n",
       "        vertical-align: top;\n",
       "    }\n",
       "\n",
       "    .dataframe thead th {\n",
       "        text-align: right;\n",
       "    }\n",
       "</style>\n",
       "<table border=\"1\" class=\"dataframe\">\n",
       "  <thead>\n",
       "    <tr style=\"text-align: right;\">\n",
       "      <th></th>\n",
       "      <th>AverageTemperature</th>\n",
       "      <th>Year</th>\n",
       "      <th>Month</th>\n",
       "      <th>Days delta</th>\n",
       "      <th>Season</th>\n",
       "      <th>MA</th>\n",
       "      <th>Season offset</th>\n",
       "    </tr>\n",
       "    <tr>\n",
       "      <th>dt</th>\n",
       "      <th></th>\n",
       "      <th></th>\n",
       "      <th></th>\n",
       "      <th></th>\n",
       "      <th></th>\n",
       "      <th></th>\n",
       "      <th></th>\n",
       "    </tr>\n",
       "  </thead>\n",
       "  <tbody>\n",
       "    <tr>\n",
       "      <th>1910-12-31</th>\n",
       "      <td>18.380081</td>\n",
       "      <td>1910.458333</td>\n",
       "      <td>6.5</td>\n",
       "      <td>166.500000</td>\n",
       "      <td>1.5</td>\n",
       "      <td>18.932140</td>\n",
       "      <td>-0.507267</td>\n",
       "    </tr>\n",
       "    <tr>\n",
       "      <th>1911-12-31</th>\n",
       "      <td>18.408202</td>\n",
       "      <td>1911.458333</td>\n",
       "      <td>6.5</td>\n",
       "      <td>531.500000</td>\n",
       "      <td>1.5</td>\n",
       "      <td>18.279772</td>\n",
       "      <td>0.128430</td>\n",
       "    </tr>\n",
       "    <tr>\n",
       "      <th>1912-12-31</th>\n",
       "      <td>18.464741</td>\n",
       "      <td>1912.458333</td>\n",
       "      <td>6.5</td>\n",
       "      <td>897.333333</td>\n",
       "      <td>1.5</td>\n",
       "      <td>18.598135</td>\n",
       "      <td>-0.133394</td>\n",
       "    </tr>\n",
       "    <tr>\n",
       "      <th>1913-12-31</th>\n",
       "      <td>18.491490</td>\n",
       "      <td>1913.458333</td>\n",
       "      <td>6.5</td>\n",
       "      <td>1262.500000</td>\n",
       "      <td>1.5</td>\n",
       "      <td>18.387970</td>\n",
       "      <td>0.103520</td>\n",
       "    </tr>\n",
       "    <tr>\n",
       "      <th>1914-12-31</th>\n",
       "      <td>18.660602</td>\n",
       "      <td>1914.458333</td>\n",
       "      <td>6.5</td>\n",
       "      <td>1627.500000</td>\n",
       "      <td>1.5</td>\n",
       "      <td>18.634489</td>\n",
       "      <td>0.026113</td>\n",
       "    </tr>\n",
       "    <tr>\n",
       "      <th>...</th>\n",
       "      <td>...</td>\n",
       "      <td>...</td>\n",
       "      <td>...</td>\n",
       "      <td>...</td>\n",
       "      <td>...</td>\n",
       "      <td>...</td>\n",
       "      <td>...</td>\n",
       "    </tr>\n",
       "    <tr>\n",
       "      <th>2008-12-31</th>\n",
       "      <td>19.452983</td>\n",
       "      <td>2008.458333</td>\n",
       "      <td>6.5</td>\n",
       "      <td>35961.333333</td>\n",
       "      <td>1.5</td>\n",
       "      <td>19.441261</td>\n",
       "      <td>0.011722</td>\n",
       "    </tr>\n",
       "    <tr>\n",
       "      <th>2009-12-31</th>\n",
       "      <td>19.574902</td>\n",
       "      <td>2009.458333</td>\n",
       "      <td>6.5</td>\n",
       "      <td>36326.500000</td>\n",
       "      <td>1.5</td>\n",
       "      <td>19.492192</td>\n",
       "      <td>0.082711</td>\n",
       "    </tr>\n",
       "    <tr>\n",
       "      <th>2010-12-31</th>\n",
       "      <td>19.657980</td>\n",
       "      <td>2010.458333</td>\n",
       "      <td>6.5</td>\n",
       "      <td>36691.500000</td>\n",
       "      <td>1.5</td>\n",
       "      <td>19.696163</td>\n",
       "      <td>-0.038183</td>\n",
       "    </tr>\n",
       "    <tr>\n",
       "      <th>2011-12-31</th>\n",
       "      <td>19.484929</td>\n",
       "      <td>2011.458333</td>\n",
       "      <td>6.5</td>\n",
       "      <td>37056.500000</td>\n",
       "      <td>1.5</td>\n",
       "      <td>19.509671</td>\n",
       "      <td>-0.024742</td>\n",
       "    </tr>\n",
       "    <tr>\n",
       "      <th>2012-12-31</th>\n",
       "      <td>19.497581</td>\n",
       "      <td>2012.458333</td>\n",
       "      <td>6.5</td>\n",
       "      <td>37422.333333</td>\n",
       "      <td>1.5</td>\n",
       "      <td>19.453391</td>\n",
       "      <td>0.044190</td>\n",
       "    </tr>\n",
       "  </tbody>\n",
       "</table>\n",
       "<p>103 rows × 7 columns</p>\n",
       "</div>"
      ],
      "text/plain": [
       "            AverageTemperature         Year  Month    Days delta  Season  \\\n",
       "dt                                                                         \n",
       "1910-12-31           18.380081  1910.458333    6.5    166.500000     1.5   \n",
       "1911-12-31           18.408202  1911.458333    6.5    531.500000     1.5   \n",
       "1912-12-31           18.464741  1912.458333    6.5    897.333333     1.5   \n",
       "1913-12-31           18.491490  1913.458333    6.5   1262.500000     1.5   \n",
       "1914-12-31           18.660602  1914.458333    6.5   1627.500000     1.5   \n",
       "...                        ...          ...    ...           ...     ...   \n",
       "2008-12-31           19.452983  2008.458333    6.5  35961.333333     1.5   \n",
       "2009-12-31           19.574902  2009.458333    6.5  36326.500000     1.5   \n",
       "2010-12-31           19.657980  2010.458333    6.5  36691.500000     1.5   \n",
       "2011-12-31           19.484929  2011.458333    6.5  37056.500000     1.5   \n",
       "2012-12-31           19.497581  2012.458333    6.5  37422.333333     1.5   \n",
       "\n",
       "                   MA  Season offset  \n",
       "dt                                    \n",
       "1910-12-31  18.932140      -0.507267  \n",
       "1911-12-31  18.279772       0.128430  \n",
       "1912-12-31  18.598135      -0.133394  \n",
       "1913-12-31  18.387970       0.103520  \n",
       "1914-12-31  18.634489       0.026113  \n",
       "...               ...            ...  \n",
       "2008-12-31  19.441261       0.011722  \n",
       "2009-12-31  19.492192       0.082711  \n",
       "2010-12-31  19.696163      -0.038183  \n",
       "2011-12-31  19.509671      -0.024742  \n",
       "2012-12-31  19.453391       0.044190  \n",
       "\n",
       "[103 rows x 7 columns]"
      ]
     },
     "execution_count": 15,
     "metadata": {},
     "output_type": "execute_result"
    }
   ],
   "source": [
    "out_years"
   ]
  },
  {
   "cell_type": "code",
   "execution_count": 16,
   "metadata": {},
   "outputs": [],
   "source": [
    "doSeasonal=True"
   ]
  },
  {
   "cell_type": "code",
   "execution_count": 17,
   "metadata": {},
   "outputs": [
    {
     "name": "stdout",
     "output_type": "stream",
     "text": [
      "sd:  dt\n",
      "1910-01-01    -1.238\n",
      "1910-02-01     0.638\n",
      "1910-03-01     1.124\n",
      "1910-04-01     3.269\n",
      "1910-05-01     7.996\n",
      "               ...  \n",
      "2009-08-01    16.423\n",
      "2009-09-01    13.177\n",
      "2009-10-01     5.614\n",
      "2009-11-01     5.539\n",
      "2009-12-01    -0.823\n",
      "Length: 1200, dtype: float64\n",
      "sd:  count    1200.000000\n",
      "mean        5.712107\n",
      "std         6.926974\n",
      "min       -12.097000\n",
      "25%         0.341500\n",
      "50%         5.137500\n",
      "75%        11.819000\n",
      "max        19.858000\n",
      "dtype: float64\n",
      "Seasonal resid:  dt\n",
      "1910-01-01   NaN\n",
      "1910-02-01   NaN\n",
      "1910-03-01   NaN\n",
      "1910-04-01   NaN\n",
      "1910-05-01   NaN\n",
      "              ..\n",
      "2009-08-01   NaN\n",
      "2009-09-01   NaN\n",
      "2009-10-01   NaN\n",
      "2009-11-01   NaN\n",
      "2009-12-01   NaN\n",
      "Name: resid, Length: 1200, dtype: float64\n",
      "Seasonal s:  dt\n",
      "1910-01-01   -7.968693\n",
      "1910-02-01   -8.975884\n",
      "1910-03-01   -7.045014\n",
      "1910-04-01   -3.421572\n",
      "1910-05-01    1.618869\n",
      "                ...   \n",
      "2009-08-01    9.843746\n",
      "2009-09-01    5.951408\n",
      "2009-10-01    1.340639\n",
      "2009-11-01   -2.468656\n",
      "2009-12-01   -5.583554\n",
      "Name: seasonal, Length: 1200, dtype: float64\n",
      "Seasonal trend:  dt\n",
      "1910-01-01   NaN\n",
      "1910-02-01   NaN\n",
      "1910-03-01   NaN\n",
      "1910-04-01   NaN\n",
      "1910-05-01   NaN\n",
      "              ..\n",
      "2009-08-01   NaN\n",
      "2009-09-01   NaN\n",
      "2009-10-01   NaN\n",
      "2009-11-01   NaN\n",
      "2009-12-01   NaN\n",
      "Name: trend, Length: 1200, dtype: float64\n"
     ]
    },
    {
     "data": {
      "text/plain": [
       "<Figure size 432x288 with 0 Axes>"
      ]
     },
     "metadata": {},
     "output_type": "display_data"
    },
    {
     "data": {
      "image/png": "[encoded data removed]",
      "text/plain": [
       "<Figure size 432x288 with 4 Axes>"
      ]
     },
     "metadata": {
      "needs_background": "light"
     },
     "output_type": "display_data"
    }
   ],
   "source": [
    "if doSeasonal:\n",
    "    seasonal_data = out[0:1200] # 12 months * 2 years\n",
    "    sx = seasonal_data.index\n",
    "    sy = seasonal_data['AverageTemperature'].values\n",
    "    seasonal_series = pd.Series(sy, index=sx)\n",
    "    print(\"sd: \", seasonal_series)\n",
    "    print(\"sd: \", seasonal_series.describe())\n",
    "    seasonal_result = seasonal_decompose(seasonal_series, model='additive')\n",
    "    f = plt.figure()\n",
    "    f = seasonal_result.plot()\n",
    "    f.savefig(\"test-seasonal-plot.png\")\n",
    "    print(\"Seasonal resid: \" , seasonal_result.resid)\n",
    "    print(\"Seasonal s: \" , seasonal_result.seasonal)\n",
    "    print(\"Seasonal trend: \" , seasonal_result.trend)"
   ]
  },
  {
   "cell_type": "code",
   "execution_count": 18,
   "metadata": {},
   "outputs": [
    {
     "name": "stdout",
     "output_type": "stream",
     "text": [
      "SD:  0.33377703906878087\n",
      "SD:  0.36374931362676455\n"
     ]
    }
   ],
   "source": [
    "print(\"SD: \", out_years[\"AverageTemperature\"].std())\n",
    "print(\"SD: \", out_years_10[\"AverageTemperature\"].std())"
   ]
  },
  {
   "cell_type": "code",
   "execution_count": 19,
   "metadata": {},
   "outputs": [
    {
     "data": {
      "text/plain": [
       "DatetimeIndex(['1910-01-01', '1910-02-01', '1910-03-01', '1910-04-01',\n",
       "               '1910-05-01', '1910-06-01', '1910-07-01', '1910-08-01',\n",
       "               '1910-09-01', '1910-10-01',\n",
       "               ...\n",
       "               '2009-03-01', '2009-04-01', '2009-05-01', '2009-06-01',\n",
       "               '2009-07-01', '2009-08-01', '2009-09-01', '2009-10-01',\n",
       "               '2009-11-01', '2009-12-01'],\n",
       "              dtype='datetime64[ns]', name='dt', length=1200, freq=None)"
      ]
     },
     "execution_count": 19,
     "metadata": {},
     "output_type": "execute_result"
    }
   ],
   "source": [
    "sx"
   ]
  },
  {
   "cell_type": "code",
   "execution_count": 20,
   "metadata": {},
   "outputs": [],
   "source": [
    "#Testing with Linear regression"
   ]
  },
  {
   "cell_type": "code",
   "execution_count": 21,
   "metadata": {},
   "outputs": [],
   "source": [
    "from sklearn.model_selection import train_test_split\n",
    "from sklearn.model_selection import cross_val_score"
   ]
  },
  {
   "cell_type": "code",
   "execution_count": 22,
   "metadata": {},
   "outputs": [],
   "source": [
    "x=out_years[\"Year\"].values.reshape(-1,1)\n",
    "y = out_years['AverageTemperature'].values"
   ]
  },
  {
   "cell_type": "code",
   "execution_count": 23,
   "metadata": {},
   "outputs": [
    {
     "data": {
      "text/plain": [
       "array([18.38008125, 18.40820243, 18.46474097, 18.49148958, 18.66060243,\n",
       "       18.71123993, 18.55187743, 18.24255417, 18.39374028, 18.53186146,\n",
       "       18.54267049, 18.60775417, 18.50415313, 18.56541944, 18.62185903,\n",
       "       18.58891319, 18.86793229, 18.73918194, 18.73845903, 18.48581944,\n",
       "       18.84472257, 18.7554    , 18.74608264, 18.55832396, 18.81882361,\n",
       "       18.72231076, 18.81061944, 18.95794688, 18.87344514, 18.81152917,\n",
       "       18.70296424, 18.88144549, 18.76261076, 18.8170434 , 18.85743472,\n",
       "       18.80656736, 18.92441424, 19.04098785, 18.77332874, 18.72651309,\n",
       "       18.61869777, 18.80681001, 18.83725652, 18.887     , 18.61281379,\n",
       "       18.68946125, 18.32128429, 18.79136968, 18.97317661, 18.85669067,\n",
       "       18.91824348, 18.9546454 , 18.72587277, 18.70734979, 18.61376337,\n",
       "       18.5502915 , 18.89760322, 18.66645782, 18.63820645, 18.80323148,\n",
       "       18.82573388, 18.62066667, 18.69775309, 18.90458025, 18.66372942,\n",
       "       18.77846982, 18.51509294, 18.95334602, 18.76139575, 18.94068176,\n",
       "       18.88469033, 18.94724691, 18.88354252, 19.1244225 , 18.79669342,\n",
       "       18.73113443, 18.8327356 , 19.08160014, 19.14198457, 19.0872987 ,\n",
       "       19.34714438, 19.04207853, 19.00288786, 18.96184979, 19.28143141,\n",
       "       19.29673594, 18.98931139, 19.28008608, 19.62509259, 19.42125137,\n",
       "       19.37853052, 19.45431859, 19.59396159, 19.55369136, 19.45112037,\n",
       "       19.52829973, 19.56768176, 19.63864781, 19.45298251, 19.57490226,\n",
       "       19.65797977, 19.48492901, 19.49758059])"
      ]
     },
     "execution_count": 23,
     "metadata": {},
     "output_type": "execute_result"
    }
   ],
   "source": [
    "y"
   ]
  },
  {
   "cell_type": "code",
   "execution_count": 24,
   "metadata": {},
   "outputs": [
    {
     "data": {
      "text/plain": [
       "103"
      ]
     },
     "execution_count": 24,
     "metadata": {},
     "output_type": "execute_result"
    }
   ],
   "source": [
    "len(y)"
   ]
  },
  {
   "cell_type": "code",
   "execution_count": 25,
   "metadata": {},
   "outputs": [],
   "source": [
    "from sklearn.model_selection import train_test_split"
   ]
  },
  {
   "cell_type": "code",
   "execution_count": 26,
   "metadata": {},
   "outputs": [],
   "source": [
    "x_train, x_test, y_train, y_test = train_test_split(x, y, test_size = 0.2)"
   ]
  },
  {
   "cell_type": "code",
   "execution_count": 27,
   "metadata": {},
   "outputs": [
    {
     "data": {
      "text/plain": [
       "82"
      ]
     },
     "execution_count": 27,
     "metadata": {},
     "output_type": "execute_result"
    }
   ],
   "source": [
    "len(x_train)"
   ]
  },
  {
   "cell_type": "code",
   "execution_count": 28,
   "metadata": {},
   "outputs": [
    {
     "data": {
      "text/plain": [
       "82"
      ]
     },
     "execution_count": 28,
     "metadata": {},
     "output_type": "execute_result"
    }
   ],
   "source": [
    "len(y_train)"
   ]
  },
  {
   "cell_type": "code",
   "execution_count": 29,
   "metadata": {},
   "outputs": [],
   "source": [
    "# Model Import and Build "
   ]
  },
  {
   "cell_type": "code",
   "execution_count": 30,
   "metadata": {},
   "outputs": [],
   "source": [
    "from sklearn.linear_model import LinearRegression\n",
    "\n",
    "regressor = LinearRegression()\n",
    "regressor.fit(x_train, y_train)\n",
    "\n",
    "pred = regressor.predict(x_test)"
   ]
  },
  {
   "cell_type": "code",
   "execution_count": 31,
   "metadata": {},
   "outputs": [
    {
     "data": {
      "text/plain": [
       "Text(0, 0.5, 'Y-Train')"
      ]
     },
     "execution_count": 31,
     "metadata": {},
     "output_type": "execute_result"
    },
    {
     "data": {
      "image/png": "[encoded data removed]",
      "text/plain": [
       "<Figure size 432x288 with 1 Axes>"
      ]
     },
     "metadata": {
      "needs_background": "light"
     },
     "output_type": "display_data"
    }
   ],
   "source": [
    "# Visualization\n",
    "## Check the fitting on training set\n",
    "plt.scatter(x_train, y_train)\n",
    "plt.plot(x_train, regressor.predict(x_train), color='black')\n",
    "plt.title('Fit on training set')\n",
    "plt.xlabel('X-Train')\n",
    "plt.ylabel('Y-Train')"
   ]
  },
  {
   "cell_type": "code",
   "execution_count": 32,
   "metadata": {},
   "outputs": [
    {
     "data": {
      "text/plain": [
       "Text(0, 0.5, 'Y-Test')"
      ]
     },
     "execution_count": 32,
     "metadata": {},
     "output_type": "execute_result"
    },
    {
     "data": {
      "image/png": "[encoded data removed]",
      "text/plain": [
       "<Figure size 432x288 with 1 Axes>"
      ]
     },
     "metadata": {
      "needs_background": "light"
     },
     "output_type": "display_data"
    }
   ],
   "source": [
    "## Check fitting on validation set\n",
    "plt.scatter(x_test, y_test, color='r')\n",
    "plt.plot(x_test, pred, color='b')\n",
    "plt.title('Validation set')\n",
    "plt.xlabel('X-Test')\n",
    "plt.ylabel('Y-Test')"
   ]
  },
  {
   "cell_type": "code",
   "execution_count": 65,
   "metadata": {},
   "outputs": [
    {
     "name": "stdout",
     "output_type": "stream",
     "text": [
      "Prediction 2019:  [19.34408709]\n"
     ]
    }
   ],
   "source": [
    "print(\"Prediction 2019: \", regressor.predict([[2019]]))"
   ]
  },
  {
   "cell_type": "code",
   "execution_count": 67,
   "metadata": {},
   "outputs": [
    {
     "name": "stdout",
     "output_type": "stream",
     "text": [
      "Regression Prediction 1990:  [19.10354416]\n",
      "Regression Prediction 2019:  [19.34408709]\n",
      "Regression Prediction 2050:  [19.60121918]\n"
     ]
    }
   ],
   "source": [
    "print(\"Regression Prediction 1990: \", regressor.predict([[1990]]))\n",
    "print(\"Regression Prediction 2019: \", regressor.predict([[2019]]))\n",
    "print(\"Regression Prediction 2050: \", regressor.predict([[2050]]))"
   ]
  },
  {
   "cell_type": "code",
   "execution_count": 35,
   "metadata": {},
   "outputs": [
    {
     "data": {
      "text/plain": [
       "array([[2010.45833333],\n",
       "       [2001.45833333],\n",
       "       [1944.45833333],\n",
       "       [1941.45833333],\n",
       "       [1988.45833333],\n",
       "       [1991.45833333],\n",
       "       [2011.45833333],\n",
       "       [1957.45833333],\n",
       "       [1948.45864921],\n",
       "       [2007.45833333],\n",
       "       [1938.45833333],\n",
       "       [2006.45833333],\n",
       "       [1961.45833333],\n",
       "       [1912.45833333],\n",
       "       [1940.45833333],\n",
       "       [1942.45833333],\n",
       "       [1996.45833333],\n",
       "       [1981.45833333],\n",
       "       [2012.45833333],\n",
       "       [1929.45833333],\n",
       "       [1932.45833333]])"
      ]
     },
     "execution_count": 35,
     "metadata": {},
     "output_type": "execute_result"
    }
   ],
   "source": [
    "x_test"
   ]
  },
  {
   "cell_type": "code",
   "execution_count": null,
   "metadata": {},
   "outputs": [],
   "source": []
  },
  {
   "cell_type": "code",
   "execution_count": 36,
   "metadata": {},
   "outputs": [
    {
     "data": {
      "text/plain": [
       "[<matplotlib.lines.Line2D at 0x23fd57edca0>]"
      ]
     },
     "execution_count": 36,
     "metadata": {},
     "output_type": "execute_result"
    },
    {
     "data": {
      "image/png": "[encoded data removed]",
      "text/plain": [
       "<Figure size 432x288 with 1 Axes>"
      ]
     },
     "metadata": {
      "needs_background": "light"
     },
     "output_type": "display_data"
    }
   ],
   "source": [
    "plt.plot(x,y)"
   ]
  },
  {
   "cell_type": "code",
   "execution_count": null,
   "metadata": {},
   "outputs": [],
   "source": []
  },
  {
   "cell_type": "code",
   "execution_count": 37,
   "metadata": {
    "scrolled": true
   },
   "outputs": [
    {
     "name": "stdout",
     "output_type": "stream",
     "text": [
      "Coefficients: \n",
      " [0.00829458]\n"
     ]
    }
   ],
   "source": [
    "# The coefficients\n",
    "print(\"Coefficients: \\n\", regressor.coef_)"
   ]
  },
  {
   "cell_type": "code",
   "execution_count": 38,
   "metadata": {},
   "outputs": [],
   "source": [
    "from sklearn.metrics import mean_squared_error, r2_score"
   ]
  },
  {
   "cell_type": "code",
   "execution_count": 39,
   "metadata": {},
   "outputs": [
    {
     "name": "stdout",
     "output_type": "stream",
     "text": [
      "Accuracy:  0.6386264478837798\n"
     ]
    }
   ],
   "source": [
    "print(\"Accuracy: \", regressor.score(x,y))"
   ]
  },
  {
   "cell_type": "code",
   "execution_count": 40,
   "metadata": {},
   "outputs": [
    {
     "name": "stdout",
     "output_type": "stream",
     "text": [
      "Mean squared error: 0.03\n"
     ]
    }
   ],
   "source": [
    "# The mean squared error\n",
    "MSE_Linear=mean_squared_error(y_test, pred)\n",
    "print(\"Mean squared error: %.2f\" % mean_squared_error(y_test, pred))"
   ]
  },
  {
   "cell_type": "code",
   "execution_count": 41,
   "metadata": {},
   "outputs": [],
   "source": [
    "RMSE = math.sqrt(MSE_Linear)"
   ]
  },
  {
   "cell_type": "code",
   "execution_count": 42,
   "metadata": {},
   "outputs": [
    {
     "data": {
      "text/plain": [
       "0.18649783544579923"
      ]
     },
     "execution_count": 42,
     "metadata": {},
     "output_type": "execute_result"
    }
   ],
   "source": [
    "RMSE"
   ]
  },
  {
   "cell_type": "code",
   "execution_count": 44,
   "metadata": {},
   "outputs": [
    {
     "name": "stdout",
     "output_type": "stream",
     "text": [
      "Coefficient of determination: 0.74\n"
     ]
    }
   ],
   "source": [
    "# The coefficient of determination[Adjusted R Square]: 1 is perfect prediction\n",
    "print(\"Coefficient of determination: %.2f\" % r2_score(y_test, pred))"
   ]
  },
  {
   "cell_type": "code",
   "execution_count": 43,
   "metadata": {},
   "outputs": [
    {
     "name": "stdout",
     "output_type": "stream",
     "text": [
      "Mean squared error:  0.03986871398070714\n"
     ]
    }
   ],
   "source": [
    "# The mean squared error\n",
    "print(\"Mean squared error: \", np.mean((regressor.predict(x) - y) ** 2))"
   ]
  },
  {
   "cell_type": "code",
   "execution_count": 45,
   "metadata": {},
   "outputs": [],
   "source": [
    "#SVR Model"
   ]
  },
  {
   "cell_type": "code",
   "execution_count": 46,
   "metadata": {},
   "outputs": [],
   "source": [
    "  svr = SVR(kernel = \"rbf\", C = 1e3, gamma = 0.1, epsilon = 0.1)"
   ]
  },
  {
   "cell_type": "code",
   "execution_count": 47,
   "metadata": {},
   "outputs": [
    {
     "data": {
      "text/plain": [
       "SVR(C=1000.0, gamma=0.1)"
      ]
     },
     "execution_count": 47,
     "metadata": {},
     "output_type": "execute_result"
    }
   ],
   "source": [
    " svr.fit(x,y)"
   ]
  },
  {
   "cell_type": "code",
   "execution_count": 48,
   "metadata": {},
   "outputs": [],
   "source": [
    "y_preds_svr = svr.predict(x)"
   ]
  },
  {
   "cell_type": "code",
   "execution_count": 49,
   "metadata": {},
   "outputs": [
    {
     "data": {
      "text/plain": [
       "<matplotlib.collections.PathCollection at 0x23fd593e0a0>"
      ]
     },
     "execution_count": 49,
     "metadata": {},
     "output_type": "execute_result"
    },
    {
     "data": {
      "image/png": "[encoded data removed]",
      "text/plain": [
       "<Figure size 432x288 with 1 Axes>"
      ]
     },
     "metadata": {
      "needs_background": "light"
     },
     "output_type": "display_data"
    }
   ],
   "source": [
    "plt.plot(x, y_preds_svr,'-', markersize=1, label=\"SVR\")\n",
    "plt.scatter(x_train, y_train)"
   ]
  },
  {
   "cell_type": "code",
   "execution_count": 63,
   "metadata": {},
   "outputs": [
    {
     "name": "stdout",
     "output_type": "stream",
     "text": [
      "SVR Accuracy:  0.9334733411786047\n",
      "SVR Prediction 1990:  [19.23196008]\n",
      "SVR Prediction 2019:  [18.8876216]\n",
      "SVR Prediction 2050:  [18.88612662]\n"
     ]
    }
   ],
   "source": [
    "print(\"SVR Accuracy: \", svr.score(x,y))\n",
    "print(\"SVR Prediction 1990: \", svr.predict([[1990]]))\n",
    "print(\"SVR Prediction 2019: \", svr.predict([[2019]]))\n",
    "print(\"SVR Prediction 2050: \", svr.predict([[2050]]))"
   ]
  },
  {
   "cell_type": "code",
   "execution_count": 51,
   "metadata": {},
   "outputs": [],
   "source": [
    "model = make_pipeline(PolynomialFeatures(degree=2), Ridge(alpha=1.0))"
   ]
  },
  {
   "cell_type": "code",
   "execution_count": 52,
   "metadata": {},
   "outputs": [
    {
     "data": {
      "text/plain": [
       "Pipeline(steps=[('polynomialfeatures', PolynomialFeatures()),\n",
       "                ('ridge', Ridge())])"
      ]
     },
     "execution_count": 52,
     "metadata": {},
     "output_type": "execute_result"
    }
   ],
   "source": [
    "model.fit(x, y)"
   ]
  },
  {
   "cell_type": "code",
   "execution_count": 54,
   "metadata": {},
   "outputs": [],
   "source": [
    " y_preds2 = model.predict(x)"
   ]
  },
  {
   "cell_type": "code",
   "execution_count": 55,
   "metadata": {},
   "outputs": [
    {
     "data": {
      "text/plain": [
       "<matplotlib.collections.PathCollection at 0x23fd5dc9190>"
      ]
     },
     "execution_count": 55,
     "metadata": {},
     "output_type": "execute_result"
    },
    {
     "data": {
      "image/png": "[encoded data removed]",
      "text/plain": [
       "<Figure size 432x288 with 1 Axes>"
      ]
     },
     "metadata": {
      "needs_background": "light"
     },
     "output_type": "display_data"
    }
   ],
   "source": [
    "plt.plot(x, y_preds2, '-', markersize=1, label=\"Poly F (3) + Ridge\")\n",
    "plt.scatter(x_train, y_train)"
   ]
  },
  {
   "cell_type": "code",
   "execution_count": 56,
   "metadata": {},
   "outputs": [
    {
     "name": "stdout",
     "output_type": "stream",
     "text": [
      "Accuracy:  0.7277371320329418\n"
     ]
    }
   ],
   "source": [
    "print(\"Accuracy: \", model.score(x,y))"
   ]
  },
  {
   "cell_type": "code",
   "execution_count": 57,
   "metadata": {},
   "outputs": [
    {
     "name": "stdout",
     "output_type": "stream",
     "text": [
      "Mean squared error:  0.03003753414432141\n"
     ]
    }
   ],
   "source": [
    "print(\"Mean squared error: \", np.mean((model.predict(x) - y) ** 2))"
   ]
  },
  {
   "cell_type": "code",
   "execution_count": 62,
   "metadata": {},
   "outputs": [
    {
     "name": "stdout",
     "output_type": "stream",
     "text": [
      "Ridge Prediction 1990:  [19.13712661]\n",
      "Ridge Prediction 2019:  [19.64481784]\n",
      "Ridge Prediction 2050:  [20.37164256]\n"
     ]
    }
   ],
   "source": [
    "print(\"Ridge Prediction 1990: \", model.predict([[1990]]))\n",
    "print(\"Ridge Prediction 2019: \", model.predict([[2019]]))\n",
    "print(\"Ridge Prediction 2050: \", model.predict([[2050]]))"
   ]
  },
  {
   "cell_type": "code",
   "execution_count": 131,
   "metadata": {},
   "outputs": [],
   "source": [
    "#Model Comparison"
   ]
  },
  {
   "cell_type": "code",
   "execution_count": 59,
   "metadata": {},
   "outputs": [
    {
     "name": "stdout",
     "output_type": "stream",
     "text": [
      "Mean squared error: 0.03\n",
      "RMSE: 0.19\n",
      "Coefficient of determination: 0.74\n",
      "Accuracy Linear Regression:  0.6386264478837798\n"
     ]
    }
   ],
   "source": [
    "MSE_Linear=mean_squared_error(y_test, pred)\n",
    "print(\"Mean squared error: %.2f\" % mean_squared_error(y_test, pred))\n",
    "RMSE = math.sqrt(MSE_Linear)\n",
    "print(\"RMSE: %.2f\" % RMSE)\n",
    "print(\"Coefficient of determination: %.2f\" % r2_score(y_test, pred))\n",
    "print(\"Accuracy Linear Regression: \", regressor.score(x,y))"
   ]
  },
  {
   "cell_type": "code",
   "execution_count": 60,
   "metadata": {},
   "outputs": [
    {
     "name": "stdout",
     "output_type": "stream",
     "text": [
      "Mean squared error:  0.006504186510011447\n",
      " Root Mean squared error:  0.08064853693658333\n",
      "Coefficient of determination: 0.95\n",
      "SVR Accuracy:  0.9334733411786047\n"
     ]
    }
   ],
   "source": [
    "#print(\"Mean squared error: \", np.mean((svr.predict(x_test) - y_test) ** 2))\n",
    "MSE2=mean_squared_error(y_test, svr.predict(x_test))\n",
    "print(\"Mean squared error: \",MSE2)\n",
    "RMSE_SVR = math.sqrt(MSE2)\n",
    "print(\" Root Mean squared error: \",RMSE_SVR)\n",
    "print(\"Coefficient of determination: %.2f\" % r2_score(y_test, svr.predict(x_test)))\n",
    "print(\"SVR Accuracy: \", svr.score(x,y))"
   ]
  },
  {
   "cell_type": "code",
   "execution_count": 61,
   "metadata": {},
   "outputs": [
    {
     "name": "stdout",
     "output_type": "stream",
     "text": [
      "Accuracy Ridge Regression:  0.7277371320329418\n",
      "Mean squared error: 0.02\n",
      "RMSE: 0.14305436186510753\n",
      "Coefficient of determination: 0.84\n"
     ]
    }
   ],
   "source": [
    "print(\"Accuracy Ridge Regression: \", model.score(x,y))\n",
    "print(\"Mean squared error: %.2f\" % mean_squared_error(y_test, model.predict(x_test)))\n",
    "MSE3=mean_squared_error(y_test, model.predict(x_test))  \n",
    "RMSE3 = math.sqrt(MSE3)\n",
    "print(\"RMSE:\",RMSE3)\n",
    "print(\"Coefficient of determination: %.2f\" % r2_score(y_test, model.predict(x_test)))"
   ]
  },
  {
   "cell_type": "code",
   "execution_count": 71,
   "metadata": {},
   "outputs": [
    {
     "name": "stdout",
     "output_type": "stream",
     "text": [
      "Regression Prediction 1990:  [19.10354416]\n",
      "Regression Prediction 2019:  [19.34408709]\n",
      "Regression Prediction 2030:  [19.43532751]\n",
      "Regression Prediction 2050:  [19.60121918]\n"
     ]
    }
   ],
   "source": [
    "print(\"Regression Prediction 1990: \", regressor.predict([[1990]]))\n",
    "print(\"Regression Prediction 2019: \", regressor.predict([[2019]]))\n",
    "print(\"Regression Prediction 2030: \", regressor.predict([[2030]]))\n",
    "print(\"Regression Prediction 2050: \", regressor.predict([[2050]]))"
   ]
  },
  {
   "cell_type": "code",
   "execution_count": 72,
   "metadata": {},
   "outputs": [
    {
     "name": "stdout",
     "output_type": "stream",
     "text": [
      "Ridge Prediction 1990:  [19.13712661]\n",
      "Ridge Prediction 2019:  [19.64481784]\n",
      "Ridge Prediction 2030:  [19.88094572]\n",
      "Ridge Prediction 2050:  [20.37164256]\n"
     ]
    }
   ],
   "source": [
    "print(\"Ridge Prediction 1990: \", model.predict([[1990]]))\n",
    "print(\"Ridge Prediction 2019: \", model.predict([[2019]]))\n",
    "print(\"Ridge Prediction 2030: \", model.predict([[2030]]))\n",
    "print(\"Ridge Prediction 2050: \", model.predict([[2050]]))"
   ]
  },
  {
   "cell_type": "code",
   "execution_count": 73,
   "metadata": {},
   "outputs": [
    {
     "name": "stdout",
     "output_type": "stream",
     "text": [
      "SVR Prediction 1990:  [19.23196008]\n",
      "SVR Prediction 2019:  [18.8876216]\n",
      "SVR Prediction 2030:  [18.88612662]\n",
      "SVR Prediction 2050:  [18.88612662]\n"
     ]
    }
   ],
   "source": [
    "print(\"SVR Prediction 1990: \", svr.predict([[1990]]))\n",
    "print(\"SVR Prediction 2019: \", svr.predict([[2019]]))\n",
    "print(\"SVR Prediction 2030: \", svr.predict([[2030]]))\n",
    "print(\"SVR Prediction 2050: \", svr.predict([[2050]]))"
   ]
  },
  {
   "cell_type": "code",
   "execution_count": null,
   "metadata": {},
   "outputs": [],
   "source": []
  }
 ],
 "metadata": {
  "kernelspec": {
   "display_name": "Python 3",
   "language": "python",
   "name": "python3"
  },
  "language_info": {
   "codemirror_mode": {
    "name": "ipython",
    "version": 3
   },
   "file_extension": ".py",
   "mimetype": "text/x-python",
   "name": "python",
   "nbconvert_exporter": "python",
   "pygments_lexer": "ipython3",
   "version": "3.8.3"
  }
 },
 "nbformat": 4,
 "nbformat_minor": 4
}
